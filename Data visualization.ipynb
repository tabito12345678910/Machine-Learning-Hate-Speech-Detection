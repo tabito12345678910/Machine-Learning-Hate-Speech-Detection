{
 "cells": [
  {
   "cell_type": "code",
   "execution_count": 3,
   "metadata": {
    "collapsed": false
   },
   "outputs": [
    {
     "name": "stderr",
     "output_type": "stream",
     "text": [
      "/tmp/ipykernel_41554/710154570.py:10: FutureWarning: In a future version of pandas all arguments of DataFrame.dropna will be keyword-only\n",
      "  data = data.dropna('Unamed:0')\n"
     ]
    },
    {
     "ename": "ValueError",
     "evalue": "No axis named Unamed:0 for object type DataFrame",
     "output_type": "error",
     "traceback": [
      "\u001b[0;31m---------------------------------------------------------------------------\u001b[0m",
      "\u001b[0;31mKeyError\u001b[0m                                  Traceback (most recent call last)",
      "\u001b[0;32m/usr/local/lib/python3.8/dist-packages/pandas/core/generic.py\u001b[0m in \u001b[0;36m_get_axis_number\u001b[0;34m(cls, axis)\u001b[0m\n\u001b[1;32m    542\u001b[0m         \u001b[0;32mtry\u001b[0m\u001b[0;34m:\u001b[0m\u001b[0;34m\u001b[0m\u001b[0;34m\u001b[0m\u001b[0m\n\u001b[0;32m--> 543\u001b[0;31m             \u001b[0;32mreturn\u001b[0m \u001b[0mcls\u001b[0m\u001b[0;34m.\u001b[0m\u001b[0m_AXIS_TO_AXIS_NUMBER\u001b[0m\u001b[0;34m[\u001b[0m\u001b[0maxis\u001b[0m\u001b[0;34m]\u001b[0m\u001b[0;34m\u001b[0m\u001b[0;34m\u001b[0m\u001b[0m\n\u001b[0m\u001b[1;32m    544\u001b[0m         \u001b[0;32mexcept\u001b[0m \u001b[0mKeyError\u001b[0m\u001b[0;34m:\u001b[0m\u001b[0;34m\u001b[0m\u001b[0;34m\u001b[0m\u001b[0m\n",
      "\u001b[0;31mKeyError\u001b[0m: 'Unamed:0'",
      "\nDuring handling of the above exception, another exception occurred:\n",
      "\u001b[0;31mValueError\u001b[0m                                Traceback (most recent call last)",
      "\u001b[0;32m/tmp/ipykernel_41554/710154570.py\u001b[0m in \u001b[0;36m<module>\u001b[0;34m\u001b[0m\n\u001b[1;32m      8\u001b[0m \u001b[0;34m\u001b[0m\u001b[0m\n\u001b[1;32m      9\u001b[0m \u001b[0mdata\u001b[0m \u001b[0;34m=\u001b[0m \u001b[0mpd\u001b[0m\u001b[0;34m.\u001b[0m\u001b[0mread_csv\u001b[0m\u001b[0;34m(\u001b[0m\u001b[0;34m'/projects/250c93cf-311b-4af0-b0c9-a55b21af396c/Fernanda/aicamp_nb/lectures/data_fundamentals/datasets/us_covid19_202007.csv'\u001b[0m\u001b[0;34m,\u001b[0m \u001b[0msep\u001b[0m\u001b[0;34m=\u001b[0m\u001b[0;34m'\\t'\u001b[0m\u001b[0;34m,\u001b[0m \u001b[0mencoding\u001b[0m\u001b[0;34m=\u001b[0m\u001b[0;34m'utf-8'\u001b[0m\u001b[0;34m)\u001b[0m\u001b[0;34m\u001b[0m\u001b[0;34m\u001b[0m\u001b[0m\n\u001b[0;32m---> 10\u001b[0;31m \u001b[0mdata\u001b[0m \u001b[0;34m=\u001b[0m \u001b[0mdata\u001b[0m\u001b[0;34m.\u001b[0m\u001b[0mdropna\u001b[0m\u001b[0;34m(\u001b[0m\u001b[0;34m'Unamed:0'\u001b[0m\u001b[0;34m)\u001b[0m\u001b[0;34m\u001b[0m\u001b[0;34m\u001b[0m\u001b[0m\n\u001b[0m",
      "\u001b[0;32m/usr/local/lib/python3.8/dist-packages/pandas/util/_decorators.py\u001b[0m in \u001b[0;36mwrapper\u001b[0;34m(*args, **kwargs)\u001b[0m\n\u001b[1;32m    309\u001b[0m                     \u001b[0mstacklevel\u001b[0m\u001b[0;34m=\u001b[0m\u001b[0mstacklevel\u001b[0m\u001b[0;34m,\u001b[0m\u001b[0;34m\u001b[0m\u001b[0;34m\u001b[0m\u001b[0m\n\u001b[1;32m    310\u001b[0m                 )\n\u001b[0;32m--> 311\u001b[0;31m             \u001b[0;32mreturn\u001b[0m \u001b[0mfunc\u001b[0m\u001b[0;34m(\u001b[0m\u001b[0;34m*\u001b[0m\u001b[0margs\u001b[0m\u001b[0;34m,\u001b[0m \u001b[0;34m**\u001b[0m\u001b[0mkwargs\u001b[0m\u001b[0;34m)\u001b[0m\u001b[0;34m\u001b[0m\u001b[0;34m\u001b[0m\u001b[0m\n\u001b[0m\u001b[1;32m    312\u001b[0m \u001b[0;34m\u001b[0m\u001b[0m\n\u001b[1;32m    313\u001b[0m         \u001b[0;32mreturn\u001b[0m \u001b[0mwrapper\u001b[0m\u001b[0;34m\u001b[0m\u001b[0;34m\u001b[0m\u001b[0m\n",
      "\u001b[0;32m/usr/local/lib/python3.8/dist-packages/pandas/core/frame.py\u001b[0m in \u001b[0;36mdropna\u001b[0;34m(self, axis, how, thresh, subset, inplace)\u001b[0m\n\u001b[1;32m   5937\u001b[0m             \u001b[0;32mraise\u001b[0m \u001b[0mTypeError\u001b[0m\u001b[0;34m(\u001b[0m\u001b[0;34m\"supplying multiple axes to axis is no longer supported.\"\u001b[0m\u001b[0;34m)\u001b[0m\u001b[0;34m\u001b[0m\u001b[0;34m\u001b[0m\u001b[0m\n\u001b[1;32m   5938\u001b[0m \u001b[0;34m\u001b[0m\u001b[0m\n\u001b[0;32m-> 5939\u001b[0;31m         \u001b[0maxis\u001b[0m \u001b[0;34m=\u001b[0m \u001b[0mself\u001b[0m\u001b[0;34m.\u001b[0m\u001b[0m_get_axis_number\u001b[0m\u001b[0;34m(\u001b[0m\u001b[0maxis\u001b[0m\u001b[0;34m)\u001b[0m\u001b[0;34m\u001b[0m\u001b[0;34m\u001b[0m\u001b[0m\n\u001b[0m\u001b[1;32m   5940\u001b[0m         \u001b[0magg_axis\u001b[0m \u001b[0;34m=\u001b[0m \u001b[0;36m1\u001b[0m \u001b[0;34m-\u001b[0m \u001b[0maxis\u001b[0m\u001b[0;34m\u001b[0m\u001b[0;34m\u001b[0m\u001b[0m\n\u001b[1;32m   5941\u001b[0m \u001b[0;34m\u001b[0m\u001b[0m\n",
      "\u001b[0;32m/usr/local/lib/python3.8/dist-packages/pandas/core/generic.py\u001b[0m in \u001b[0;36m_get_axis_number\u001b[0;34m(cls, axis)\u001b[0m\n\u001b[1;32m    543\u001b[0m             \u001b[0;32mreturn\u001b[0m \u001b[0mcls\u001b[0m\u001b[0;34m.\u001b[0m\u001b[0m_AXIS_TO_AXIS_NUMBER\u001b[0m\u001b[0;34m[\u001b[0m\u001b[0maxis\u001b[0m\u001b[0;34m]\u001b[0m\u001b[0;34m\u001b[0m\u001b[0;34m\u001b[0m\u001b[0m\n\u001b[1;32m    544\u001b[0m         \u001b[0;32mexcept\u001b[0m \u001b[0mKeyError\u001b[0m\u001b[0;34m:\u001b[0m\u001b[0;34m\u001b[0m\u001b[0;34m\u001b[0m\u001b[0m\n\u001b[0;32m--> 545\u001b[0;31m             \u001b[0;32mraise\u001b[0m \u001b[0mValueError\u001b[0m\u001b[0;34m(\u001b[0m\u001b[0;34mf\"No axis named {axis} for object type {cls.__name__}\"\u001b[0m\u001b[0;34m)\u001b[0m\u001b[0;34m\u001b[0m\u001b[0;34m\u001b[0m\u001b[0m\n\u001b[0m\u001b[1;32m    546\u001b[0m \u001b[0;34m\u001b[0m\u001b[0m\n\u001b[1;32m    547\u001b[0m     \u001b[0;34m@\u001b[0m\u001b[0mfinal\u001b[0m\u001b[0;34m\u001b[0m\u001b[0;34m\u001b[0m\u001b[0m\n",
      "\u001b[0;31mValueError\u001b[0m: No axis named Unamed:0 for object type DataFrame"
     ]
    }
   ],
   "source": [
    "# for data analysis\n",
    "import pandas as pd\n",
    "import numpy as np\n",
    "\n",
    "# for plotting\n",
    "import seaborn as sns\n",
    "import matplotlib.pyplot as plt\n",
    "\n",
    "data = pd.read_csv('/projects/250c93cf-311b-4af0-b0c9-a55b21af396c/Fernanda/aicamp_nb/lectures/data_fundamentals/datasets/us_covid19_202007.csv', sep='\\t', encoding='utf-8')\n",
    "data = data.dropna()\n",
    "data.isna().sum()"
   ]
  },
  {
   "cell_type": "code",
   "execution_count": 14,
   "metadata": {
    "collapsed": false
   },
   "outputs": [
    {
     "data": {
      "text/plain": [
       "array(['US'], dtype=object)"
      ]
     },
     "execution_count": 14,
     "metadata": {},
     "output_type": "execute_result"
    }
   ],
   "source": [
    "#provides unique values\n",
    "data.CountryCode.unique()"
   ]
  },
  {
   "cell_type": "code",
   "execution_count": 18,
   "metadata": {
    "collapsed": false
   },
   "outputs": [
    {
     "data": {
      "text/plain": [
       "array(['United States of America'], dtype=object)"
      ]
     },
     "execution_count": 18,
     "metadata": {},
     "output_type": "execute_result"
    }
   ],
   "source": [
    "data.Country.unique()"
   ]
  },
  {
   "cell_type": "code",
   "execution_count": 20,
   "metadata": {
    "collapsed": false
   },
   "outputs": [
    {
     "data": {
      "text/plain": [
       "Index(['Unnamed: 0', 'Country', 'CountryCode', 'Province', 'City', 'CityCode',\n",
       "       'Lat', 'Lon', 'Confirmed', 'Deaths', 'Recovered', 'Active', 'Date'],\n",
       "      dtype='object')"
      ]
     },
     "execution_count": 20,
     "metadata": {},
     "output_type": "execute_result"
    }
   ],
   "source": [
    "#lists the columns from data\n",
    "data.columns"
   ]
  },
  {
   "cell_type": "code",
   "execution_count": 24,
   "metadata": {
    "collapsed": false
   },
   "outputs": [
    {
     "data": {
      "text/html": [
       "<div>\n",
       "<style scoped>\n",
       "    .dataframe tbody tr th:only-of-type {\n",
       "        vertical-align: middle;\n",
       "    }\n",
       "\n",
       "    .dataframe tbody tr th {\n",
       "        vertical-align: top;\n",
       "    }\n",
       "\n",
       "    .dataframe thead th {\n",
       "        text-align: right;\n",
       "    }\n",
       "</style>\n",
       "<table border=\"1\" class=\"dataframe\">\n",
       "  <thead>\n",
       "    <tr style=\"text-align: right;\">\n",
       "      <th></th>\n",
       "      <th>Unnamed: 0</th>\n",
       "      <th>Country</th>\n",
       "      <th>CountryCode</th>\n",
       "      <th>Province</th>\n",
       "      <th>City</th>\n",
       "      <th>CityCode</th>\n",
       "      <th>Lat</th>\n",
       "      <th>Lon</th>\n",
       "      <th>Confirmed</th>\n",
       "      <th>Deaths</th>\n",
       "      <th>Recovered</th>\n",
       "      <th>Active</th>\n",
       "      <th>Date</th>\n",
       "    </tr>\n",
       "  </thead>\n",
       "  <tbody>\n",
       "    <tr>\n",
       "      <th>2337</th>\n",
       "      <td>2337</td>\n",
       "      <td>United States of America</td>\n",
       "      <td>US</td>\n",
       "      <td>New York</td>\n",
       "      <td>Rockland</td>\n",
       "      <td>36087.0</td>\n",
       "      <td>41.15</td>\n",
       "      <td>-74.03</td>\n",
       "      <td>0</td>\n",
       "      <td>0</td>\n",
       "      <td>0</td>\n",
       "      <td>0</td>\n",
       "      <td>2020-01-23T00:00:00Z</td>\n",
       "    </tr>\n",
       "    <tr>\n",
       "      <th>2338</th>\n",
       "      <td>2338</td>\n",
       "      <td>United States of America</td>\n",
       "      <td>US</td>\n",
       "      <td>New York</td>\n",
       "      <td>Saratoga</td>\n",
       "      <td>36091.0</td>\n",
       "      <td>43.11</td>\n",
       "      <td>-73.87</td>\n",
       "      <td>0</td>\n",
       "      <td>0</td>\n",
       "      <td>0</td>\n",
       "      <td>0</td>\n",
       "      <td>2020-01-23T00:00:00Z</td>\n",
       "    </tr>\n",
       "    <tr>\n",
       "      <th>2339</th>\n",
       "      <td>2339</td>\n",
       "      <td>United States of America</td>\n",
       "      <td>US</td>\n",
       "      <td>New York</td>\n",
       "      <td>Schenectady</td>\n",
       "      <td>36093.0</td>\n",
       "      <td>42.82</td>\n",
       "      <td>-74.05</td>\n",
       "      <td>0</td>\n",
       "      <td>0</td>\n",
       "      <td>0</td>\n",
       "      <td>0</td>\n",
       "      <td>2020-01-23T00:00:00Z</td>\n",
       "    </tr>\n",
       "    <tr>\n",
       "      <th>2340</th>\n",
       "      <td>2340</td>\n",
       "      <td>United States of America</td>\n",
       "      <td>US</td>\n",
       "      <td>New York</td>\n",
       "      <td>Schoharie</td>\n",
       "      <td>36095.0</td>\n",
       "      <td>42.59</td>\n",
       "      <td>-74.44</td>\n",
       "      <td>0</td>\n",
       "      <td>0</td>\n",
       "      <td>0</td>\n",
       "      <td>0</td>\n",
       "      <td>2020-01-23T00:00:00Z</td>\n",
       "    </tr>\n",
       "    <tr>\n",
       "      <th>2341</th>\n",
       "      <td>2341</td>\n",
       "      <td>United States of America</td>\n",
       "      <td>US</td>\n",
       "      <td>New York</td>\n",
       "      <td>Schuyler</td>\n",
       "      <td>36097.0</td>\n",
       "      <td>42.39</td>\n",
       "      <td>-76.88</td>\n",
       "      <td>0</td>\n",
       "      <td>0</td>\n",
       "      <td>0</td>\n",
       "      <td>0</td>\n",
       "      <td>2020-01-23T00:00:00Z</td>\n",
       "    </tr>\n",
       "    <tr>\n",
       "      <th>...</th>\n",
       "      <td>...</td>\n",
       "      <td>...</td>\n",
       "      <td>...</td>\n",
       "      <td>...</td>\n",
       "      <td>...</td>\n",
       "      <td>...</td>\n",
       "      <td>...</td>\n",
       "      <td>...</td>\n",
       "      <td>...</td>\n",
       "      <td>...</td>\n",
       "      <td>...</td>\n",
       "      <td>...</td>\n",
       "      <td>...</td>\n",
       "    </tr>\n",
       "    <tr>\n",
       "      <th>533902</th>\n",
       "      <td>533902</td>\n",
       "      <td>United States of America</td>\n",
       "      <td>US</td>\n",
       "      <td>New York</td>\n",
       "      <td>Wayne</td>\n",
       "      <td>36117.0</td>\n",
       "      <td>43.15</td>\n",
       "      <td>-77.03</td>\n",
       "      <td>174</td>\n",
       "      <td>3</td>\n",
       "      <td>0</td>\n",
       "      <td>171</td>\n",
       "      <td>2020-07-01T00:00:00Z</td>\n",
       "    </tr>\n",
       "    <tr>\n",
       "      <th>533903</th>\n",
       "      <td>533903</td>\n",
       "      <td>United States of America</td>\n",
       "      <td>US</td>\n",
       "      <td>New York</td>\n",
       "      <td>Westchester</td>\n",
       "      <td>36119.0</td>\n",
       "      <td>41.16</td>\n",
       "      <td>-73.76</td>\n",
       "      <td>34866</td>\n",
       "      <td>1425</td>\n",
       "      <td>0</td>\n",
       "      <td>33441</td>\n",
       "      <td>2020-07-01T00:00:00Z</td>\n",
       "    </tr>\n",
       "    <tr>\n",
       "      <th>533904</th>\n",
       "      <td>533904</td>\n",
       "      <td>United States of America</td>\n",
       "      <td>US</td>\n",
       "      <td>New York</td>\n",
       "      <td>Wyoming</td>\n",
       "      <td>36121.0</td>\n",
       "      <td>42.70</td>\n",
       "      <td>-78.22</td>\n",
       "      <td>95</td>\n",
       "      <td>5</td>\n",
       "      <td>0</td>\n",
       "      <td>90</td>\n",
       "      <td>2020-07-01T00:00:00Z</td>\n",
       "    </tr>\n",
       "    <tr>\n",
       "      <th>533905</th>\n",
       "      <td>533905</td>\n",
       "      <td>United States of America</td>\n",
       "      <td>US</td>\n",
       "      <td>New York</td>\n",
       "      <td>Yates</td>\n",
       "      <td>36123.0</td>\n",
       "      <td>42.64</td>\n",
       "      <td>-77.10</td>\n",
       "      <td>46</td>\n",
       "      <td>6</td>\n",
       "      <td>0</td>\n",
       "      <td>40</td>\n",
       "      <td>2020-07-01T00:00:00Z</td>\n",
       "    </tr>\n",
       "    <tr>\n",
       "      <th>533941</th>\n",
       "      <td>533941</td>\n",
       "      <td>United States of America</td>\n",
       "      <td>US</td>\n",
       "      <td>New York</td>\n",
       "      <td>Albany</td>\n",
       "      <td>36001.0</td>\n",
       "      <td>42.60</td>\n",
       "      <td>-73.98</td>\n",
       "      <td>2112</td>\n",
       "      <td>121</td>\n",
       "      <td>0</td>\n",
       "      <td>1991</td>\n",
       "      <td>2020-07-01T00:00:00Z</td>\n",
       "    </tr>\n",
       "  </tbody>\n",
       "</table>\n",
       "<p>10304 rows × 13 columns</p>\n",
       "</div>"
      ],
      "text/plain": [
       "        Unnamed: 0                   Country CountryCode  Province  \\\n",
       "2337          2337  United States of America          US  New York   \n",
       "2338          2338  United States of America          US  New York   \n",
       "2339          2339  United States of America          US  New York   \n",
       "2340          2340  United States of America          US  New York   \n",
       "2341          2341  United States of America          US  New York   \n",
       "...            ...                       ...         ...       ...   \n",
       "533902      533902  United States of America          US  New York   \n",
       "533903      533903  United States of America          US  New York   \n",
       "533904      533904  United States of America          US  New York   \n",
       "533905      533905  United States of America          US  New York   \n",
       "533941      533941  United States of America          US  New York   \n",
       "\n",
       "               City  CityCode    Lat    Lon  Confirmed  Deaths  Recovered  \\\n",
       "2337       Rockland   36087.0  41.15 -74.03          0       0          0   \n",
       "2338       Saratoga   36091.0  43.11 -73.87          0       0          0   \n",
       "2339    Schenectady   36093.0  42.82 -74.05          0       0          0   \n",
       "2340      Schoharie   36095.0  42.59 -74.44          0       0          0   \n",
       "2341       Schuyler   36097.0  42.39 -76.88          0       0          0   \n",
       "...             ...       ...    ...    ...        ...     ...        ...   \n",
       "533902        Wayne   36117.0  43.15 -77.03        174       3          0   \n",
       "533903  Westchester   36119.0  41.16 -73.76      34866    1425          0   \n",
       "533904      Wyoming   36121.0  42.70 -78.22         95       5          0   \n",
       "533905        Yates   36123.0  42.64 -77.10         46       6          0   \n",
       "533941       Albany   36001.0  42.60 -73.98       2112     121          0   \n",
       "\n",
       "        Active                  Date  \n",
       "2337         0  2020-01-23T00:00:00Z  \n",
       "2338         0  2020-01-23T00:00:00Z  \n",
       "2339         0  2020-01-23T00:00:00Z  \n",
       "2340         0  2020-01-23T00:00:00Z  \n",
       "2341         0  2020-01-23T00:00:00Z  \n",
       "...        ...                   ...  \n",
       "533902     171  2020-07-01T00:00:00Z  \n",
       "533903   33441  2020-07-01T00:00:00Z  \n",
       "533904      90  2020-07-01T00:00:00Z  \n",
       "533905      40  2020-07-01T00:00:00Z  \n",
       "533941    1991  2020-07-01T00:00:00Z  \n",
       "\n",
       "[10304 rows x 13 columns]"
      ]
     },
     "execution_count": 24,
     "metadata": {},
     "output_type": "execute_result"
    }
   ],
   "source": [
    "# data frame to equal specific subset\n",
    "ny_cities = data[data.Province=='New York']\n",
    "ny_cities"
   ]
  },
  {
   "cell_type": "code",
   "execution_count": 71,
   "metadata": {
    "collapsed": false
   },
   "outputs": [
    {
     "data": {
      "text/html": [
       "<div>\n",
       "<style scoped>\n",
       "    .dataframe tbody tr th:only-of-type {\n",
       "        vertical-align: middle;\n",
       "    }\n",
       "\n",
       "    .dataframe tbody tr th {\n",
       "        vertical-align: top;\n",
       "    }\n",
       "\n",
       "    .dataframe thead th {\n",
       "        text-align: right;\n",
       "    }\n",
       "</style>\n",
       "<table border=\"1\" class=\"dataframe\">\n",
       "  <thead>\n",
       "    <tr style=\"text-align: right;\">\n",
       "      <th></th>\n",
       "      <th>Unnamed: 0</th>\n",
       "      <th>Country</th>\n",
       "      <th>CountryCode</th>\n",
       "      <th>Province</th>\n",
       "      <th>City</th>\n",
       "      <th>CityCode</th>\n",
       "      <th>Lat</th>\n",
       "      <th>Lon</th>\n",
       "      <th>Confirmed</th>\n",
       "      <th>Deaths</th>\n",
       "      <th>Recovered</th>\n",
       "      <th>Active</th>\n",
       "      <th>Date</th>\n",
       "    </tr>\n",
       "  </thead>\n",
       "  <tbody>\n",
       "    <tr>\n",
       "      <th>942</th>\n",
       "      <td>942</td>\n",
       "      <td>United States of America</td>\n",
       "      <td>US</td>\n",
       "      <td>California</td>\n",
       "      <td>Alameda</td>\n",
       "      <td>6001.0</td>\n",
       "      <td>37.65</td>\n",
       "      <td>-121.89</td>\n",
       "      <td>0</td>\n",
       "      <td>0</td>\n",
       "      <td>0</td>\n",
       "      <td>0</td>\n",
       "      <td>2020-01-23T00:00:00Z</td>\n",
       "    </tr>\n",
       "    <tr>\n",
       "      <th>943</th>\n",
       "      <td>943</td>\n",
       "      <td>United States of America</td>\n",
       "      <td>US</td>\n",
       "      <td>California</td>\n",
       "      <td>Alpine</td>\n",
       "      <td>6003.0</td>\n",
       "      <td>38.60</td>\n",
       "      <td>-119.82</td>\n",
       "      <td>0</td>\n",
       "      <td>0</td>\n",
       "      <td>0</td>\n",
       "      <td>0</td>\n",
       "      <td>2020-01-23T00:00:00Z</td>\n",
       "    </tr>\n",
       "    <tr>\n",
       "      <th>944</th>\n",
       "      <td>944</td>\n",
       "      <td>United States of America</td>\n",
       "      <td>US</td>\n",
       "      <td>California</td>\n",
       "      <td>Amador</td>\n",
       "      <td>6005.0</td>\n",
       "      <td>38.45</td>\n",
       "      <td>-120.66</td>\n",
       "      <td>0</td>\n",
       "      <td>0</td>\n",
       "      <td>0</td>\n",
       "      <td>0</td>\n",
       "      <td>2020-01-23T00:00:00Z</td>\n",
       "    </tr>\n",
       "    <tr>\n",
       "      <th>945</th>\n",
       "      <td>945</td>\n",
       "      <td>United States of America</td>\n",
       "      <td>US</td>\n",
       "      <td>California</td>\n",
       "      <td>Butte</td>\n",
       "      <td>6007.0</td>\n",
       "      <td>39.67</td>\n",
       "      <td>-121.60</td>\n",
       "      <td>0</td>\n",
       "      <td>0</td>\n",
       "      <td>0</td>\n",
       "      <td>0</td>\n",
       "      <td>2020-01-23T00:00:00Z</td>\n",
       "    </tr>\n",
       "    <tr>\n",
       "      <th>946</th>\n",
       "      <td>946</td>\n",
       "      <td>United States of America</td>\n",
       "      <td>US</td>\n",
       "      <td>California</td>\n",
       "      <td>Calaveras</td>\n",
       "      <td>6009.0</td>\n",
       "      <td>38.21</td>\n",
       "      <td>-120.55</td>\n",
       "      <td>0</td>\n",
       "      <td>0</td>\n",
       "      <td>0</td>\n",
       "      <td>0</td>\n",
       "      <td>2020-01-23T00:00:00Z</td>\n",
       "    </tr>\n",
       "    <tr>\n",
       "      <th>...</th>\n",
       "      <td>...</td>\n",
       "      <td>...</td>\n",
       "      <td>...</td>\n",
       "      <td>...</td>\n",
       "      <td>...</td>\n",
       "      <td>...</td>\n",
       "      <td>...</td>\n",
       "      <td>...</td>\n",
       "      <td>...</td>\n",
       "      <td>...</td>\n",
       "      <td>...</td>\n",
       "      <td>...</td>\n",
       "      <td>...</td>\n",
       "    </tr>\n",
       "    <tr>\n",
       "      <th>534976</th>\n",
       "      <td>534976</td>\n",
       "      <td>United States of America</td>\n",
       "      <td>US</td>\n",
       "      <td>California</td>\n",
       "      <td>Mariposa</td>\n",
       "      <td>6043.0</td>\n",
       "      <td>37.58</td>\n",
       "      <td>-119.91</td>\n",
       "      <td>27</td>\n",
       "      <td>1</td>\n",
       "      <td>0</td>\n",
       "      <td>26</td>\n",
       "      <td>2020-07-01T00:00:00Z</td>\n",
       "    </tr>\n",
       "    <tr>\n",
       "      <th>534977</th>\n",
       "      <td>534977</td>\n",
       "      <td>United States of America</td>\n",
       "      <td>US</td>\n",
       "      <td>California</td>\n",
       "      <td>Mendocino</td>\n",
       "      <td>6045.0</td>\n",
       "      <td>39.44</td>\n",
       "      <td>-123.39</td>\n",
       "      <td>85</td>\n",
       "      <td>0</td>\n",
       "      <td>0</td>\n",
       "      <td>85</td>\n",
       "      <td>2020-07-01T00:00:00Z</td>\n",
       "    </tr>\n",
       "    <tr>\n",
       "      <th>534978</th>\n",
       "      <td>534978</td>\n",
       "      <td>United States of America</td>\n",
       "      <td>US</td>\n",
       "      <td>California</td>\n",
       "      <td>Merced</td>\n",
       "      <td>6047.0</td>\n",
       "      <td>37.19</td>\n",
       "      <td>-120.72</td>\n",
       "      <td>1131</td>\n",
       "      <td>11</td>\n",
       "      <td>0</td>\n",
       "      <td>1120</td>\n",
       "      <td>2020-07-01T00:00:00Z</td>\n",
       "    </tr>\n",
       "    <tr>\n",
       "      <th>534979</th>\n",
       "      <td>534979</td>\n",
       "      <td>United States of America</td>\n",
       "      <td>US</td>\n",
       "      <td>California</td>\n",
       "      <td>Modoc</td>\n",
       "      <td>6049.0</td>\n",
       "      <td>41.59</td>\n",
       "      <td>-120.72</td>\n",
       "      <td>0</td>\n",
       "      <td>0</td>\n",
       "      <td>0</td>\n",
       "      <td>0</td>\n",
       "      <td>2020-07-01T00:00:00Z</td>\n",
       "    </tr>\n",
       "    <tr>\n",
       "      <th>534980</th>\n",
       "      <td>534980</td>\n",
       "      <td>United States of America</td>\n",
       "      <td>US</td>\n",
       "      <td>California</td>\n",
       "      <td>Mono</td>\n",
       "      <td>6051.0</td>\n",
       "      <td>37.94</td>\n",
       "      <td>-118.89</td>\n",
       "      <td>42</td>\n",
       "      <td>1</td>\n",
       "      <td>0</td>\n",
       "      <td>41</td>\n",
       "      <td>2020-07-01T00:00:00Z</td>\n",
       "    </tr>\n",
       "  </tbody>\n",
       "</table>\n",
       "<p>9660 rows × 13 columns</p>\n",
       "</div>"
      ],
      "text/plain": [
       "        Unnamed: 0                   Country CountryCode    Province  \\\n",
       "942            942  United States of America          US  California   \n",
       "943            943  United States of America          US  California   \n",
       "944            944  United States of America          US  California   \n",
       "945            945  United States of America          US  California   \n",
       "946            946  United States of America          US  California   \n",
       "...            ...                       ...         ...         ...   \n",
       "534976      534976  United States of America          US  California   \n",
       "534977      534977  United States of America          US  California   \n",
       "534978      534978  United States of America          US  California   \n",
       "534979      534979  United States of America          US  California   \n",
       "534980      534980  United States of America          US  California   \n",
       "\n",
       "             City  CityCode    Lat     Lon  Confirmed  Deaths  Recovered  \\\n",
       "942       Alameda    6001.0  37.65 -121.89          0       0          0   \n",
       "943        Alpine    6003.0  38.60 -119.82          0       0          0   \n",
       "944        Amador    6005.0  38.45 -120.66          0       0          0   \n",
       "945         Butte    6007.0  39.67 -121.60          0       0          0   \n",
       "946     Calaveras    6009.0  38.21 -120.55          0       0          0   \n",
       "...           ...       ...    ...     ...        ...     ...        ...   \n",
       "534976   Mariposa    6043.0  37.58 -119.91         27       1          0   \n",
       "534977  Mendocino    6045.0  39.44 -123.39         85       0          0   \n",
       "534978     Merced    6047.0  37.19 -120.72       1131      11          0   \n",
       "534979      Modoc    6049.0  41.59 -120.72          0       0          0   \n",
       "534980       Mono    6051.0  37.94 -118.89         42       1          0   \n",
       "\n",
       "        Active                  Date  \n",
       "942          0  2020-01-23T00:00:00Z  \n",
       "943          0  2020-01-23T00:00:00Z  \n",
       "944          0  2020-01-23T00:00:00Z  \n",
       "945          0  2020-01-23T00:00:00Z  \n",
       "946          0  2020-01-23T00:00:00Z  \n",
       "...        ...                   ...  \n",
       "534976      26  2020-07-01T00:00:00Z  \n",
       "534977      85  2020-07-01T00:00:00Z  \n",
       "534978    1120  2020-07-01T00:00:00Z  \n",
       "534979       0  2020-07-01T00:00:00Z  \n",
       "534980      41  2020-07-01T00:00:00Z  \n",
       "\n",
       "[9660 rows x 13 columns]"
      ]
     },
     "execution_count": 71,
     "metadata": {},
     "output_type": "execute_result"
    }
   ],
   "source": [
    "ca_cities = data[data.Province=='California']\n",
    "ca_cities"
   ]
  },
  {
   "cell_type": "code",
   "execution_count": 29,
   "metadata": {
    "collapsed": false
   },
   "outputs": [
    {
     "data": {
      "text/plain": [
       "<pandas.core.groupby.generic.DataFrameGroupBy object at 0x7fcf2bf698e0>"
      ]
     },
     "execution_count": 29,
     "metadata": {},
     "output_type": "execute_result"
    }
   ],
   "source": [
    "#group data\n",
    "ca = ca_cities.groupby(['Province', 'Date'])\n",
    "ca"
   ]
  },
  {
   "cell_type": "code",
   "execution_count": 30,
   "metadata": {
    "collapsed": false
   },
   "outputs": [
    {
     "data": {
      "text/html": [
       "<div>\n",
       "<style scoped>\n",
       "    .dataframe tbody tr th:only-of-type {\n",
       "        vertical-align: middle;\n",
       "    }\n",
       "\n",
       "    .dataframe tbody tr th {\n",
       "        vertical-align: top;\n",
       "    }\n",
       "\n",
       "    .dataframe thead th {\n",
       "        text-align: right;\n",
       "    }\n",
       "</style>\n",
       "<table border=\"1\" class=\"dataframe\">\n",
       "  <thead>\n",
       "    <tr style=\"text-align: right;\">\n",
       "      <th></th>\n",
       "      <th>Province</th>\n",
       "      <th>Date</th>\n",
       "      <th>Confirmed</th>\n",
       "    </tr>\n",
       "  </thead>\n",
       "  <tbody>\n",
       "    <tr>\n",
       "      <th>0</th>\n",
       "      <td>California</td>\n",
       "      <td>2020-01-23T00:00:00Z</td>\n",
       "      <td>0</td>\n",
       "    </tr>\n",
       "    <tr>\n",
       "      <th>1</th>\n",
       "      <td>California</td>\n",
       "      <td>2020-01-24T00:00:00Z</td>\n",
       "      <td>0</td>\n",
       "    </tr>\n",
       "    <tr>\n",
       "      <th>2</th>\n",
       "      <td>California</td>\n",
       "      <td>2020-01-25T00:00:00Z</td>\n",
       "      <td>0</td>\n",
       "    </tr>\n",
       "    <tr>\n",
       "      <th>3</th>\n",
       "      <td>California</td>\n",
       "      <td>2020-01-26T00:00:00Z</td>\n",
       "      <td>2</td>\n",
       "    </tr>\n",
       "    <tr>\n",
       "      <th>4</th>\n",
       "      <td>California</td>\n",
       "      <td>2020-01-27T00:00:00Z</td>\n",
       "      <td>2</td>\n",
       "    </tr>\n",
       "    <tr>\n",
       "      <th>...</th>\n",
       "      <td>...</td>\n",
       "      <td>...</td>\n",
       "      <td>...</td>\n",
       "    </tr>\n",
       "    <tr>\n",
       "      <th>156</th>\n",
       "      <td>California</td>\n",
       "      <td>2020-06-27T00:00:00Z</td>\n",
       "      <td>210692</td>\n",
       "    </tr>\n",
       "    <tr>\n",
       "      <th>157</th>\n",
       "      <td>California</td>\n",
       "      <td>2020-06-28T00:00:00Z</td>\n",
       "      <td>215487</td>\n",
       "    </tr>\n",
       "    <tr>\n",
       "      <th>158</th>\n",
       "      <td>California</td>\n",
       "      <td>2020-06-29T00:00:00Z</td>\n",
       "      <td>223646</td>\n",
       "    </tr>\n",
       "    <tr>\n",
       "      <th>159</th>\n",
       "      <td>California</td>\n",
       "      <td>2020-06-30T00:00:00Z</td>\n",
       "      <td>231418</td>\n",
       "    </tr>\n",
       "    <tr>\n",
       "      <th>160</th>\n",
       "      <td>California</td>\n",
       "      <td>2020-07-01T00:00:00Z</td>\n",
       "      <td>238681</td>\n",
       "    </tr>\n",
       "  </tbody>\n",
       "</table>\n",
       "<p>161 rows × 3 columns</p>\n",
       "</div>"
      ],
      "text/plain": [
       "       Province                  Date  Confirmed\n",
       "0    California  2020-01-23T00:00:00Z          0\n",
       "1    California  2020-01-24T00:00:00Z          0\n",
       "2    California  2020-01-25T00:00:00Z          0\n",
       "3    California  2020-01-26T00:00:00Z          2\n",
       "4    California  2020-01-27T00:00:00Z          2\n",
       "..          ...                   ...        ...\n",
       "156  California  2020-06-27T00:00:00Z     210692\n",
       "157  California  2020-06-28T00:00:00Z     215487\n",
       "158  California  2020-06-29T00:00:00Z     223646\n",
       "159  California  2020-06-30T00:00:00Z     231418\n",
       "160  California  2020-07-01T00:00:00Z     238681\n",
       "\n",
       "[161 rows x 3 columns]"
      ]
     },
     "execution_count": 30,
     "metadata": {},
     "output_type": "execute_result"
    }
   ],
   "source": [
    "#reset index because we messed it up by removing the n/a rows \n",
    "ca.Confirmed.sum().reset_index()"
   ]
  },
  {
   "cell_type": "code",
   "execution_count": 33,
   "metadata": {
    "collapsed": false
   },
   "outputs": [
    {
     "data": {
      "text/html": [
       "<div>\n",
       "<style scoped>\n",
       "    .dataframe tbody tr th:only-of-type {\n",
       "        vertical-align: middle;\n",
       "    }\n",
       "\n",
       "    .dataframe tbody tr th {\n",
       "        vertical-align: top;\n",
       "    }\n",
       "\n",
       "    .dataframe thead th {\n",
       "        text-align: right;\n",
       "    }\n",
       "</style>\n",
       "<table border=\"1\" class=\"dataframe\">\n",
       "  <thead>\n",
       "    <tr style=\"text-align: right;\">\n",
       "      <th></th>\n",
       "      <th>Province</th>\n",
       "      <th>Date</th>\n",
       "      <th>Confirmed</th>\n",
       "    </tr>\n",
       "  </thead>\n",
       "  <tbody>\n",
       "    <tr>\n",
       "      <th>0</th>\n",
       "      <td>New York</td>\n",
       "      <td>2020-01-23T00:00:00Z</td>\n",
       "      <td>0</td>\n",
       "    </tr>\n",
       "    <tr>\n",
       "      <th>1</th>\n",
       "      <td>New York</td>\n",
       "      <td>2020-01-24T00:00:00Z</td>\n",
       "      <td>0</td>\n",
       "    </tr>\n",
       "    <tr>\n",
       "      <th>2</th>\n",
       "      <td>New York</td>\n",
       "      <td>2020-01-25T00:00:00Z</td>\n",
       "      <td>0</td>\n",
       "    </tr>\n",
       "    <tr>\n",
       "      <th>3</th>\n",
       "      <td>New York</td>\n",
       "      <td>2020-01-26T00:00:00Z</td>\n",
       "      <td>0</td>\n",
       "    </tr>\n",
       "    <tr>\n",
       "      <th>4</th>\n",
       "      <td>New York</td>\n",
       "      <td>2020-01-27T00:00:00Z</td>\n",
       "      <td>0</td>\n",
       "    </tr>\n",
       "    <tr>\n",
       "      <th>...</th>\n",
       "      <td>...</td>\n",
       "      <td>...</td>\n",
       "      <td>...</td>\n",
       "    </tr>\n",
       "    <tr>\n",
       "      <th>156</th>\n",
       "      <td>New York</td>\n",
       "      <td>2020-06-27T00:00:00Z</td>\n",
       "      <td>391923</td>\n",
       "    </tr>\n",
       "    <tr>\n",
       "      <th>157</th>\n",
       "      <td>New York</td>\n",
       "      <td>2020-06-28T00:00:00Z</td>\n",
       "      <td>392539</td>\n",
       "    </tr>\n",
       "    <tr>\n",
       "      <th>158</th>\n",
       "      <td>New York</td>\n",
       "      <td>2020-06-29T00:00:00Z</td>\n",
       "      <td>392930</td>\n",
       "    </tr>\n",
       "    <tr>\n",
       "      <th>159</th>\n",
       "      <td>New York</td>\n",
       "      <td>2020-06-30T00:00:00Z</td>\n",
       "      <td>393454</td>\n",
       "    </tr>\n",
       "    <tr>\n",
       "      <th>160</th>\n",
       "      <td>New York</td>\n",
       "      <td>2020-07-01T00:00:00Z</td>\n",
       "      <td>394079</td>\n",
       "    </tr>\n",
       "  </tbody>\n",
       "</table>\n",
       "<p>161 rows × 3 columns</p>\n",
       "</div>"
      ],
      "text/plain": [
       "     Province                  Date  Confirmed\n",
       "0    New York  2020-01-23T00:00:00Z          0\n",
       "1    New York  2020-01-24T00:00:00Z          0\n",
       "2    New York  2020-01-25T00:00:00Z          0\n",
       "3    New York  2020-01-26T00:00:00Z          0\n",
       "4    New York  2020-01-27T00:00:00Z          0\n",
       "..        ...                   ...        ...\n",
       "156  New York  2020-06-27T00:00:00Z     391923\n",
       "157  New York  2020-06-28T00:00:00Z     392539\n",
       "158  New York  2020-06-29T00:00:00Z     392930\n",
       "159  New York  2020-06-30T00:00:00Z     393454\n",
       "160  New York  2020-07-01T00:00:00Z     394079\n",
       "\n",
       "[161 rows x 3 columns]"
      ]
     },
     "execution_count": 33,
     "metadata": {},
     "output_type": "execute_result"
    }
   ],
   "source": [
    "ny = ny_cities.groupby(['Province', 'Date'])\n",
    "ny.Confirmed.sum().reset_index()\n"
   ]
  },
  {
   "cell_type": "code",
   "execution_count": 72,
   "metadata": {
    "collapsed": false
   },
   "outputs": [
    {
     "name": "stdout",
     "output_type": "stream",
     "text": [
      "       Province                  Date  Confirmed\n",
      "151  California  2020-06-22T00:00:00Z     184765\n",
      "152  California  2020-06-23T00:00:00Z     191477\n",
      "153  California  2020-06-24T00:00:00Z     196024\n",
      "154  California  2020-06-25T00:00:00Z     201112\n",
      "155  California  2020-06-26T00:00:00Z     206844\n",
      "156  California  2020-06-27T00:00:00Z     210692\n",
      "157  California  2020-06-28T00:00:00Z     215487\n",
      "158  California  2020-06-29T00:00:00Z     223646\n",
      "159  California  2020-06-30T00:00:00Z     231418\n",
      "160  California  2020-07-01T00:00:00Z     238681\n"
     ]
    }
   ],
   "source": [
    "ca = ca_cities.groupby(['Province', 'Date']).Confirmed.sum().reset_index()\n",
    "print(ca.tail(10))\n"
   ]
  },
  {
   "cell_type": "code",
   "execution_count": 73,
   "metadata": {
    "collapsed": false
   },
   "outputs": [
    {
     "data": {
      "text/html": [
       "<div>\n",
       "<style scoped>\n",
       "    .dataframe tbody tr th:only-of-type {\n",
       "        vertical-align: middle;\n",
       "    }\n",
       "\n",
       "    .dataframe tbody tr th {\n",
       "        vertical-align: top;\n",
       "    }\n",
       "\n",
       "    .dataframe thead th {\n",
       "        text-align: right;\n",
       "    }\n",
       "</style>\n",
       "<table border=\"1\" class=\"dataframe\">\n",
       "  <thead>\n",
       "    <tr style=\"text-align: right;\">\n",
       "      <th></th>\n",
       "      <th>Province</th>\n",
       "      <th>Date</th>\n",
       "      <th>Confirmed</th>\n",
       "    </tr>\n",
       "  </thead>\n",
       "  <tbody>\n",
       "    <tr>\n",
       "      <th>0</th>\n",
       "      <td>New York</td>\n",
       "      <td>2020-01-23T00:00:00Z</td>\n",
       "      <td>0</td>\n",
       "    </tr>\n",
       "    <tr>\n",
       "      <th>1</th>\n",
       "      <td>New York</td>\n",
       "      <td>2020-01-24T00:00:00Z</td>\n",
       "      <td>0</td>\n",
       "    </tr>\n",
       "    <tr>\n",
       "      <th>2</th>\n",
       "      <td>New York</td>\n",
       "      <td>2020-01-25T00:00:00Z</td>\n",
       "      <td>0</td>\n",
       "    </tr>\n",
       "    <tr>\n",
       "      <th>3</th>\n",
       "      <td>New York</td>\n",
       "      <td>2020-01-26T00:00:00Z</td>\n",
       "      <td>0</td>\n",
       "    </tr>\n",
       "    <tr>\n",
       "      <th>4</th>\n",
       "      <td>New York</td>\n",
       "      <td>2020-01-27T00:00:00Z</td>\n",
       "      <td>0</td>\n",
       "    </tr>\n",
       "    <tr>\n",
       "      <th>...</th>\n",
       "      <td>...</td>\n",
       "      <td>...</td>\n",
       "      <td>...</td>\n",
       "    </tr>\n",
       "    <tr>\n",
       "      <th>156</th>\n",
       "      <td>New York</td>\n",
       "      <td>2020-06-27T00:00:00Z</td>\n",
       "      <td>391923</td>\n",
       "    </tr>\n",
       "    <tr>\n",
       "      <th>157</th>\n",
       "      <td>New York</td>\n",
       "      <td>2020-06-28T00:00:00Z</td>\n",
       "      <td>392539</td>\n",
       "    </tr>\n",
       "    <tr>\n",
       "      <th>158</th>\n",
       "      <td>New York</td>\n",
       "      <td>2020-06-29T00:00:00Z</td>\n",
       "      <td>392930</td>\n",
       "    </tr>\n",
       "    <tr>\n",
       "      <th>159</th>\n",
       "      <td>New York</td>\n",
       "      <td>2020-06-30T00:00:00Z</td>\n",
       "      <td>393454</td>\n",
       "    </tr>\n",
       "    <tr>\n",
       "      <th>160</th>\n",
       "      <td>New York</td>\n",
       "      <td>2020-07-01T00:00:00Z</td>\n",
       "      <td>394079</td>\n",
       "    </tr>\n",
       "  </tbody>\n",
       "</table>\n",
       "<p>161 rows × 3 columns</p>\n",
       "</div>"
      ],
      "text/plain": [
       "     Province                  Date  Confirmed\n",
       "0    New York  2020-01-23T00:00:00Z          0\n",
       "1    New York  2020-01-24T00:00:00Z          0\n",
       "2    New York  2020-01-25T00:00:00Z          0\n",
       "3    New York  2020-01-26T00:00:00Z          0\n",
       "4    New York  2020-01-27T00:00:00Z          0\n",
       "..        ...                   ...        ...\n",
       "156  New York  2020-06-27T00:00:00Z     391923\n",
       "157  New York  2020-06-28T00:00:00Z     392539\n",
       "158  New York  2020-06-29T00:00:00Z     392930\n",
       "159  New York  2020-06-30T00:00:00Z     393454\n",
       "160  New York  2020-07-01T00:00:00Z     394079\n",
       "\n",
       "[161 rows x 3 columns]"
      ]
     },
     "execution_count": 73,
     "metadata": {},
     "output_type": "execute_result"
    }
   ],
   "source": [
    "ny = ny_cities.groupby(['Province', 'Date']).Confirmed.sum().reset_index()\n",
    "ny"
   ]
  },
  {
   "cell_type": "code",
   "execution_count": 74,
   "metadata": {
    "collapsed": false
   },
   "outputs": [],
   "source": [
    "ca['Date'] = pd.to_datetime(ca['Date'])\n",
    "ny['Date'] = pd.to_datetime(ny['Date'])"
   ]
  },
  {
   "cell_type": "code",
   "execution_count": 77,
   "metadata": {
    "collapsed": false
   },
   "outputs": [
    {
     "data": {
      "text/plain": [
       "[<matplotlib.lines.Line2D at 0x7fcf29bc93a0>]"
      ]
     },
     "execution_count": 77,
     "metadata": {},
     "output_type": "execute_result"
    },
    {
     "data": {
      "image/png": "[encoded data removed]",
      "text/plain": [
       "<Figure size 864x504 with 1 Axes>"
      ]
     },
     "execution_count": 77,
     "metadata": {
      "image/png": {
       "height": 411,
       "width": 729
      },
      "needs_background": "light"
     },
     "output_type": "execute_result"
    }
   ],
   "source": [
    "import matplotlib.pyplot as plt\n",
    "plt.plot(ca['Date'].values, ca['Confirmed'].values)\n",
    "plt.plot(ny['Date'].values, ny['Confirmed'].values)"
   ]
  },
  {
   "cell_type": "code",
   "execution_count": 91,
   "metadata": {
    "collapsed": false
   },
   "outputs": [
    {
     "data": {
      "text/plain": [
       "<matplotlib.legend.Legend at 0x7fcf29270550>"
      ]
     },
     "execution_count": 91,
     "metadata": {},
     "output_type": "execute_result"
    },
    {
     "data": {
      "image/png": "[encoded data removed]",
      "text/plain": [
       "<Figure size 864x504 with 1 Axes>"
      ]
     },
     "execution_count": 91,
     "metadata": {
      "image/png": {
       "height": 414,
       "width": 722
      },
      "needs_background": "light"
     },
     "output_type": "execute_result"
    }
   ],
   "source": [
    "plt.plot(ca['Date'].values, ca['Confirmed'].diff().values, color = 'red', label = 'ca')\n",
    "plt.plot(ny['Date'].values, ny['Confirmed'].diff().values, color = 'blue', label = 'ny')\n",
    "plt.legend()"
   ]
  },
  {
   "cell_type": "code",
   "execution_count": null,
   "metadata": {
    "collapsed": false
   },
   "outputs": [],
   "source": []
  },
  {
   "cell_type": "code",
   "execution_count": 55,
   "metadata": {
    "collapsed": false
   },
   "outputs": [
    {
     "name": "stdout",
     "output_type": "stream",
     "text": [
      "['Fried Rice']\n"
     ]
    }
   ],
   "source": []
  },
  {
   "cell_type": "code",
   "execution_count": 9,
   "metadata": {
    "collapsed": false
   },
   "outputs": [
    {
     "name": "stdout",
     "output_type": "stream",
     "text": [
      "{'aicamp': 0.0, 'aicamp2': 1, 'ai_camp2': 'hi', 'ai_camp3': [1, 2, 3], 'ai_camp4': {'food”:”carrot'}}\n"
     ]
    }
   ],
   "source": []
  },
  {
   "cell_type": "code",
   "execution_count": 21,
   "metadata": {
    "collapsed": false
   },
   "outputs": [
    {
     "name": "stdout",
     "output_type": "stream",
     "text": [
      "{1: 1, 2: 4, 3: 9, 4: 16, 5: 25, 6: 36, 8: 64, 9: 81, 10: 100, 11: 121, 12: 144, 13: 169, 14: 196, 15: 225}\n"
     ]
    }
   ],
   "source": []
  },
  {
   "cell_type": "code",
   "execution_count": 23,
   "metadata": {
    "collapsed": false
   },
   "outputs": [
    {
     "name": "stdout",
     "output_type": "stream",
     "text": [
      "{1: 1, 2: 4, 3: 9, 4: 16, 5: 25, 6: 36, 8: 64, 9: 81, 10: 100, 11: 121, 12: 144, 13: 169, 14: 196, 15: 225}\n"
     ]
    }
   ],
   "source": []
  },
  {
   "cell_type": "markdown",
   "metadata": {},
   "source": [
    "\n"
   ]
  },
  {
   "cell_type": "code",
   "execution_count": 25,
   "metadata": {
    "collapsed": false
   },
   "outputs": [
    {
     "data": {
      "text/plain": [
       "dict_items([('michael', 37), ('ying', 37), ('richard', 43), ('thomas', 16), ('beatrice', 16), ('clint', 2), ('david', 3)])"
      ]
     },
     "execution_count": 25,
     "metadata": {},
     "output_type": "execute_result"
    }
   ],
   "source": []
  },
  {
   "cell_type": "code",
   "execution_count": 26,
   "metadata": {
    "collapsed": false
   },
   "outputs": [
    {
     "name": "stdout",
     "output_type": "stream",
     "text": [
      "michael 37\n",
      "ying 37\n",
      "richard 43\n",
      "thomas 16\n",
      "beatrice 16\n",
      "clint 2\n",
      "david 3\n"
     ]
    }
   ],
   "source": []
  },
  {
   "cell_type": "code",
   "execution_count": 29,
   "metadata": {
    "collapsed": false
   },
   "outputs": [
    {
     "name": "stdout",
     "output_type": "stream",
     "text": [
      "michael\n",
      "ying\n",
      "richard\n"
     ]
    }
   ],
   "source": []
  },
  {
   "cell_type": "code",
   "execution_count": 35,
   "metadata": {
    "collapsed": false
   },
   "outputs": [
    {
     "name": "stdout",
     "output_type": "stream",
     "text": [
      "1 1 2 3 5 8 13 21 34 55 89 144 233 377 610 987 1597 2584 4181 6765 10946 17711 28657 46368 75025 121393 196418 317811 514229 832040 1346269 2178309 3524578 5702887 9227465 14930352 24157817 39088169 63245986 \n"
     ]
    }
   ],
   "source": [
    "\n",
    "\n",
    "\n"
   ]
  },
  {
   "cell_type": "code",
   "execution_count": null,
   "metadata": {
    "collapsed": false
   },
   "outputs": [],
   "source": []
  },
  {
   "cell_type": "markdown",
   "metadata": {},
   "source": []
  }
 ],
 "metadata": {
  "kernelspec": {
   "display_name": "Python 2",
   "language": "python",
   "name": "python2"
  },
  "language_info": {
   "codemirror_mode": {
    "name": "ipython",
    "version": 2
   },
   "file_extension": ".py",
   "mimetype": "text/x-python",
   "name": "python",
   "nbconvert_exporter": "python",
   "pygments_lexer": "ipython2",
   "version": "2.7.17"
  }
 },
 "nbformat": 4,
 "nbformat_minor": 4
}
