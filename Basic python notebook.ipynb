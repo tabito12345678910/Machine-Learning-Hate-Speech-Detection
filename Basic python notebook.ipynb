{
 "cells": [
  {
   "cell_type": "code",
   "execution_count": 10,
   "metadata": {
    "collapsed": false
   },
   "outputs": [
   ],
   "source": [
    "#slicing a list\n",
    "listy =  [1, 2, 3, 4, 5, 6, 7, 8, 9, 10]\n",
    "len(list_to_slice_and_dice)\n",
    "#0:4 prints first 3 second colon skips every other value\n",
    "subsetxyz = listy[0:4:2] \n",
    "print(subset)"
   ]
  },
  {
   "cell_type": "code",
   "execution_count": 11,
   "metadata": {
    "collapsed": false
   },
   "outputs": [
    {
     "data": {
      "text/plain": [
       "[1, 2]"
      ]
     },
     "execution_count": 11,
     "metadata": {
     },
     "output_type": "execute_result"
    }
   ],
   "source": [
    "listy[0:2]"
   ]
  },
  {
   "cell_type": "code",
   "execution_count": 27,
   "metadata": {
    "collapsed": false
   },
   "outputs": [
    {
     "name": "stdout",
     "output_type": "stream",
     "text": [
      "None\n"
     ]
    }
   ],
   "source": [
    "subset = [0,1,3]\n",
    "listz = listx.append(subset)\n"
   ]
  },
  {
   "cell_type": "code",
   "execution_count": 35,
   "metadata": {
    "collapsed": false
   },
   "outputs": [
    {
     "name": "stdout",
     "output_type": "stream",
     "text": [
      "[2, 4, 6, 8]\n",
      "[1, 3, 5, 7, 9]\n"
     ]
    }
   ],
   "source": [
    "#even and odd of list\n",
    "original_list = [1, 2, 3, 4, 5, 6, 7, 8, 9]\n",
    "even_list = original_list[1:10:2]\n",
    "odd_list = original_list[0:10:2]\n",
    "print(even_list)\n",
    "print(odd_list)"
   ]
  },
  {
   "cell_type": "code",
   "execution_count": 33,
   "metadata": {
    "collapsed": false
   },
   "outputs": [
   ],
   "source": [
    "#reverse list\n",
    "reversedlist = listy[::-1]"
   ]
  },
  {
   "cell_type": "code",
   "execution_count": 23,
   "metadata": {
    "collapsed": false
   },
   "outputs": [
    {
     "data": {
      "text/plain": [
       "[[1, 2, 3]]"
      ]
     },
     "execution_count": 23,
     "metadata": {
     },
     "output_type": "execute_result"
    }
   ],
   "source": [
    "#append or add to a list\n",
    "listx = []\n",
    "listx.append([1,2,3])\n",
    "listx"
   ]
  },
  {
   "cell_type": "code",
   "execution_count": 37,
   "metadata": {
    "collapsed": false
   },
   "outputs": [
    {
     "name": "stdout",
     "output_type": "stream",
     "text": [
      "t\n"
     ]
    }
   ],
   "source": [
    "#grabbing specific value of a string\n",
    "x = 'this is a string'\n",
    "first_t = x[0]\n",
    "print(first_t)"
   ]
  },
  {
   "cell_type": "code",
   "execution_count": 45,
   "metadata": {
    "collapsed": false
   },
   "outputs": [
    {
     "name": "stdout",
     "output_type": "stream",
     "text": [
      "['this', 'is', 'a', 'string']\n",
      "t\n",
      "h\n",
      "i\n",
      "s\n",
      "this\n",
      "is\n",
      "a\n",
      "string\n"
     ]
    }
   ],
   "source": [
    "#PARSING LIST\n",
    "parsedlist = x.split()\n",
    "print(parsedlist)\n",
    "\n",
    "for i in parsedlist[0]:\n",
    "    print(i)\n",
    "for i in parsedlist:\n",
    "    print(i)"
   ]
  },
  {
   "cell_type": "code",
   "execution_count": 1,
   "metadata": {
    "collapsed": false
   },
   "outputs": [
    {
     "name": "stdout",
     "output_type": "stream",
     "text": [
      "my name is david. would you like to play a game?\n",
      "MY NAME IS DAVID. WOULD YOU LIKE TO PLAY A GAME?\n",
      "My name is David. Would you cool to play a game?\n"
     ]
    },
    {
     "data": {
      "text/plain": [
       "36"
      ]
     },
     "execution_count": 1,
     "metadata": {
     },
     "output_type": "execute_result"
    }
   ],
   "source": [
    "#lower/uppercase and replacing in a string\n",
    "sample_string = \"My name is David. Would you like to play a game?\"\n",
    "lower_string = sample_string.lower()\n",
    "print(lower_string)\n",
    "upper_string = sample_string.upper()\n",
    "print(upper_string)\n",
    "b = sample_string.replace(\"like\",\"cool\")\n",
    "print(b)\n",
    "#find index of word in string\n",
    "sample_string.find('play')"
   ]
  },
  {
   "cell_type": "code",
   "execution_count": 2,
   "metadata": {
    "collapsed": false
   },
   "outputs": [
    {
     "data": {
      "text/plain": [
       "['animal',\n",
       " 'crossing',\n",
       " 'is',\n",
       " 'not',\n",
       " 'about',\n",
       " 'animal',\n",
       " 'crossing',\n",
       " 'the',\n",
       " 'road',\n",
       " 'but',\n",
       " 'it',\n",
       " 'is',\n",
       " 'a',\n",
       " 'computer',\n",
       " 'game',\n",
       " 'or',\n",
       " 'an',\n",
       " 'awesome',\n",
       " 'team',\n",
       " 'at',\n",
       " 'AI',\n",
       " 'Camp!']"
      ]
     },
     "execution_count": 2,
     "metadata": {
     },
     "output_type": "execute_result"
    }
   ],
   "source": [
    "#count words in a string\n",
    "sentence = \"animal crossing is not about animal crossing the road but it is a computer game or an awesome team at AI Camp!\"\n",
    "parsed_sentence = sentence.split()\n",
    "parsed_sentence\n",
    "#parsed_sentences = parsed_sentence.count('animal')\n",
    "#print(parced_sentences)\n"
   ]
  },
  {
   "cell_type": "code",
   "execution_count": 54,
   "metadata": {
    "collapsed": false
   },
   "outputs": [
    {
     "name": "stdout",
     "output_type": "stream",
     "text": [
      "['ANIMAL', 'ANIMAL']\n"
     ]
    }
   ],
   "source": [
    "animal_string = \"animal crossing is not about animal crossing the road but it is a computer game or an awesome team at AI Camp!\"\n",
    "parsed_animal_string = animal_string.split()\n",
    "list_upper = []\n",
    "for word in parsed_animal_string:\n",
    "    if word == \"animal\":\n",
    "        list_upper.append(word.upper())\n",
    "print(list_upper)"
   ]
  },
  {
   "cell_type": "code",
   "execution_count": 55,
   "metadata": {
    "collapsed": false
   },
   "outputs": [
    {
     "name": "stdout",
     "output_type": "stream",
     "text": [
      "['Fried Rice']\n"
     ]
    }
   ],
   "source": [
    "customer_order = ['fried rice', 'pizza']\n",
    "menu_list = ['Burrito', 'Hungry Graduate Student', 'Fried Rice', 'Chicken Noodles']\n",
    "output = []\n",
    "for menu_item in menu_list:\n",
    "    for customer_item in customer_order:\n",
    "        if menu_item.lower() == customer_item.lower():\n",
    "            output.append(menu_item)print(output)"
   ]
  },
  {
   "cell_type": "code",
   "execution_count": 9,
   "metadata": {
    "collapsed": false
   },
   "outputs": [
    {
     "name": "stdout",
     "output_type": "stream",
     "text": [
      "{'aicamp': 0.0, 'aicamp2': 1, 'ai_camp2': 'hi', 'ai_camp3': [1, 2, 3], 'ai_camp4': {'food”:”carrot'}}\n"
     ]
    }
   ],
   "source": [
    "#dictionary\n",
    "sample_dictionary = {'aicamp': 0}\n",
    "sample_dictionary[\"aicamp2\"] = 1\n",
    "sample_dictionary[\"aicamp\"]=0.0\n",
    "sample_dictionary[\"ai_camp2\"]=\"hi\"\n",
    "sample_dictionary[\"ai_camp3\"]=[1,2,3]\n",
    "sample_dictionary[\"ai_camp4\"]= {\"food”:”carrot\"}\n",
    "print(sample_dictionary)"
   ]
  },
  {
   "cell_type": "code",
   "execution_count": 21,
   "metadata": {
    "collapsed": false
   },
   "outputs": [
    {
     "name": "stdout",
     "output_type": "stream",
     "text": [
      "{1: 1, 2: 4, 3: 9, 4: 16, 5: 25, 6: 36, 8: 64, 9: 81, 10: 100, 11: 121, 12: 144, 13: 169, 14: 196, 15: 225}\n"
     ]
    }
   ],
   "source": [
    "# dictionary cont.\n",
    "my_list = [1,2,3,4,5,6,8,9,10,11,12,13,14,15]\n",
    "\n",
    "my_dict = {}\n",
    "\n",
    "for i in my_list\n",
    "    my_dict[i] = i**2\n",
    "print(my_dict)"
   ]
  },
  {
   "cell_type": "code",
   "execution_count": 23,
   "metadata": {
    "collapsed": false
   },
   "outputs": [
    {
     "name": "stdout",
     "output_type": "stream",
     "text": [
      "{1: 1, 2: 4, 3: 9, 4: 16, 5: 25, 6: 36, 8: 64, 9: 81, 10: 100, 11: 121, 12: 144, 13: 169, 14: 196, 15: 225}\n"
     ]
    }
   ],
   "source": [
    "#harder ver\n",
    "my_dict2 = {}\n",
    "for i in range(1,16):\n",
    "    if i != 7:\n",
    "        my_dict2[i] = i**2\n",
    "    i += 1\n",
    "print(my_dict2)"
   ]
  },
  {
   "cell_type": "markdown",
   "metadata": {
    "collapsed": false
   },
   "source": [
    "\n"
   ]
  },
  {
   "cell_type": "code",
   "execution_count": 25,
   "metadata": {
    "collapsed": false
   },
   "outputs": [
    {
     "data": {
      "text/plain": [
       "dict_items([('michael', 37), ('ying', 37), ('richard', 43), ('thomas', 16), ('beatrice', 16), ('clint', 2), ('david', 3)])"
      ]
     },
     "execution_count": 25,
     "metadata": {
     },
     "output_type": "execute_result"
    }
   ],
   "source": [
    "#item\n",
    "age_dictionary = {'michael': 37, 'ying': 37, 'richard': 43, 'thomas': 16, 'beatrice': 16, 'clint': 2, 'david': 3}\n",
    "age_dictionary.items()\n"
   ]
  },
  {
   "cell_type": "code",
   "execution_count": 26,
   "metadata": {
    "collapsed": false
   },
   "outputs": [
    {
     "name": "stdout",
     "output_type": "stream",
     "text": [
      "michael 37\n",
      "ying 37\n",
      "richard 43\n",
      "thomas 16\n",
      "beatrice 16\n",
      "clint 2\n",
      "david 3\n"
     ]
    }
   ],
   "source": [
    "for idx, val in age_dictionary.items():\n",
    "    print(idx, val)"
   ]
  },
  {
   "cell_type": "code",
   "execution_count": 29,
   "metadata": {
    "collapsed": false
   },
   "outputs": [
    {
     "name": "stdout",
     "output_type": "stream",
     "text": [
      "michael\n",
      "ying\n",
      "richard\n"
     ]
    }
   ],
   "source": [
    "\n",
    "for name, age in age_dictionary.items():\n",
    "    if age > 18:\n",
    "        print(name)\n"
   ]
  },
  {
   "cell_type": "code",
   "execution_count": 4,
   "metadata": {
    "collapsed": false
   },
   "outputs": [
    {
     "data": {
      "text/plain": [
       "'123'"
      ]
     },
     "execution_count": 4,
     "metadata": {
     },
     "output_type": "execute_result"
    }
   ],
   "source": [
    "list1 = ['1', '2', '3']\n",
    "str1 = ''.join(list1)\n",
    "str1\n",
    "\n",
    "\n"
   ]
  },
  {
   "cell_type": "code",
   "execution_count": 40,
   "metadata": {
    "collapsed": false
   },
   "outputs": [
    {
     "name": "stdout",
     "output_type": "stream",
     "text": [
      "1 1 2 3 5 \n"
     ]
    }
   ],
   "source": [
    "from fibonacci import fib\n",
    "fib(6)"
   ]
  },
  {
   "cell_type": "markdown",
   "metadata": {
    "collapsed": false
   },
   "source": [
   ]
  }
 ],
 "metadata": {
  "kernelspec": {
   "display_name": "Python 3 (Ubuntu Linux)",
   "language": "python",
   "name": "python3-ubuntu",
   "resource_dir": "/usr/local/share/jupyter/kernels/python3-ubuntu"
  },
  "language_info": {
   "codemirror_mode": {
    "name": "ipython",
    "version": 3
   },
   "file_extension": ".py",
   "mimetype": "text/x-python",
   "name": "python",
   "nbconvert_exporter": "python",
   "pygments_lexer": "ipython3",
   "version": "3.8.5"
  }
 },
 "nbformat": 4,
 "nbformat_minor": 4
}